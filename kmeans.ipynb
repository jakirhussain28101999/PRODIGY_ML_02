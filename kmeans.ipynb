{
 "cells": [
  {
   "cell_type": "code",
   "execution_count": null,
   "metadata": {},
   "outputs": [],
   "source": [
    "import pandas as pd\n",
    "import numpy as np\n",
    "import matplotlib.pyplot as plt\n",
    "from sklearn.cluster import KMeans  "
   ]
  },
  {
   "cell_type": "code",
   "execution_count": null,
   "metadata": {},
   "outputs": [],
   "source": [
    "df = pd.read_csv(\"Mall_Customers.csv\")\n",
    "df.head(4)"
   ]
  },
  {
   "cell_type": "code",
   "execution_count": null,
   "metadata": {},
   "outputs": [],
   "source": [
    "x1 = df.iloc[:, [3, 4]].values "
   ]
  },
  {
   "cell_type": "code",
   "execution_count": null,
   "metadata": {},
   "outputs": [],
   "source": [
    "WCSSlist= []\n",
    "\n",
    "for i in range(1, 11):\n",
    "    kmeans = KMeans(n_clusters=i, init='k-means++', random_state= 42)\n",
    "    kmeans.fit(x1)\n",
    "    WCSSlist.append(kmeans.inertia_)\n",
    "plt.plot(range(1, 11), WCSSlist)\n",
    "plt.title('The Elbow Method Graph')\n",
    "plt.xlabel('Number of clusters(k)')\n",
    "plt.ylabel('WCSS')\n",
    "plt.show()"
   ]
  },
  {
   "cell_type": "code",
   "execution_count": null,
   "metadata": {},
   "outputs": [],
   "source": [
    "kmeans = KMeans(n_clusters=5, init='k-means++', random_state= 42)  \n",
    "y_predict= kmeans.fit_predict(x1)  "
   ]
  },
  {
   "cell_type": "code",
   "execution_count": null,
   "metadata": {},
   "outputs": [],
   "source": [
    "plt.scatter(x1[y_predict == 0, 0], x1[y_predict == 0, 1], s = 100, c = 'purple', label = 'Cluster 1')  \n",
    "plt.scatter(x1[y_predict == 1, 0], x1[y_predict == 1, 1], s = 100, c = 'cyan', label = 'Cluster 2')  \n",
    "plt.scatter(x1[y_predict== 2, 0], x1[y_predict == 2, 1], s = 100, c = 'blue', label = 'Cluster 3') \n",
    "plt.scatter(x1[y_predict == 3, 0], x1[y_predict == 3, 1], s = 100, c = 'green', label = 'Cluster 4')   \n",
    "plt.scatter(x1[y_predict == 4, 0], x1[y_predict == 4, 1], s = 100, c = 'yellow', label = 'Cluster 5')  \n",
    "plt.scatter(kmeans.cluster_centers_[:, 0], kmeans.cluster_centers_[:, 1], s = 300, c = 'red', label = 'Centroid')   \n",
    "plt.title('Clusters of Customers')  \n",
    "plt.x1label('Annual Income (in Thousand $)')  \n",
    "plt.ylabel('Spending Score (1-100)')  \n",
    "plt.legend()\n",
    "plt.show()"
   ]
  }
 ],
 "metadata": {
  "kernelspec": {
   "display_name": "base",
   "language": "python",
   "name": "python3"
  },
  "language_info": {
   "codemirror_mode": {
    "name": "ipython",
    "version": 3
   },
   "file_extension": ".py",
   "mimetype": "text/x-python",
   "name": "python",
   "nbconvert_exporter": "python",
   "pygments_lexer": "ipython3",
   "version": "3.11.5"
  }
 },
 "nbformat": 4,
 "nbformat_minor": 2
}
